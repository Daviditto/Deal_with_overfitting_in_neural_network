{
 "cells": [
  {
   "cell_type": "markdown",
   "id": "ceb61d1f-bb9d-4e62-975a-abb649a4cb39",
   "metadata": {},
   "source": [
    "# Deal with overfitting in neural network"
   ]
  },
  {
   "cell_type": "markdown",
   "id": "5631a41d-0d1f-4eff-8b63-49c95b6482ef",
   "metadata": {
    "tags": []
   },
   "source": [
    "### get the data and decode the data"
   ]
  },
  {
   "cell_type": "code",
   "execution_count": 2,
   "id": "09fd60f7-c15c-4e50-960b-5e621c4eff42",
   "metadata": {},
   "outputs": [],
   "source": [
    "from tensorflow.keras.datasets import imdb"
   ]
  },
  {
   "cell_type": "code",
   "execution_count": 3,
   "id": "3524cfa5-0759-46fb-b6d4-76b3d7c70daa",
   "metadata": {},
   "outputs": [
    {
     "name": "stderr",
     "output_type": "stream",
     "text": [
      "/Users/david/opt/anaconda3/lib/python3.9/site-packages/tensorflow/python/keras/datasets/imdb.py:128: VisibleDeprecationWarning: Creating an ndarray from ragged nested sequences (which is a list-or-tuple of lists-or-tuples-or ndarrays with different lengths or shapes) is deprecated. If you meant to do this, you must specify 'dtype=object' when creating the ndarray.\n",
      "  x_train, y_train = np.array(xs[:idx]), np.array(labels[:idx])\n",
      "/Users/david/opt/anaconda3/lib/python3.9/site-packages/tensorflow/python/keras/datasets/imdb.py:129: VisibleDeprecationWarning: Creating an ndarray from ragged nested sequences (which is a list-or-tuple of lists-or-tuples-or ndarrays with different lengths or shapes) is deprecated. If you meant to do this, you must specify 'dtype=object' when creating the ndarray.\n",
      "  x_test, y_test = np.array(xs[idx:]), np.array(labels[idx:])\n"
     ]
    }
   ],
   "source": [
    "import numpy as np\n",
    "# save np.load\n",
    "np_load_old = np.load\n",
    "\n",
    "# modify the default parameters of np.load\n",
    "np.load = lambda *a,**k: np_load_old(*a, allow_pickle=True, **k)\n",
    "\n",
    "# call load_data with allow_pickle implicitly set to true\n",
    "(train_data, train_labels), (test_data, test_labels) = imdb.load_data(num_words=10000)\n",
    "\n",
    "# restore np.load for future normal usage\n",
    "np.load = np_load_old"
   ]
  },
  {
   "cell_type": "code",
   "execution_count": 7,
   "id": "51f43d32-df8e-40f1-b587-a1bb41c0f327",
   "metadata": {},
   "outputs": [
    {
     "data": {
      "text/plain": [
       "9999"
      ]
     },
     "execution_count": 7,
     "metadata": {},
     "output_type": "execute_result"
    }
   ],
   "source": [
    "max([max(i) for i in train_data])  #Because you’re restricting yourself to the top 10,000 most frequent words, no word index will exceed 10,000:"
   ]
  },
  {
   "cell_type": "code",
   "execution_count": 22,
   "id": "1e0460f5-5bfa-4349-b54d-c8ad2e4cc094",
   "metadata": {},
   "outputs": [],
   "source": [
    "word_index = imdb.get_word_index()"
   ]
  },
  {
   "cell_type": "code",
   "execution_count": 23,
   "id": "307d41df-a94e-4e11-90e9-731baf2303de",
   "metadata": {},
   "outputs": [],
   "source": [
    "revise_index = dict([(value, key) for (key, value) in word_index.items()])"
   ]
  },
  {
   "cell_type": "code",
   "execution_count": 42,
   "id": "7f36d118-197c-470f-9cd5-16ecca5642fb",
   "metadata": {},
   "outputs": [
    {
     "data": {
      "text/plain": [
       "19"
      ]
     },
     "execution_count": 42,
     "metadata": {},
     "output_type": "execute_result"
    }
   ],
   "source": [
    "word_index.get('film') # this can get the word index"
   ]
  },
  {
   "cell_type": "code",
   "execution_count": 43,
   "id": "c80aea1e-ee4d-490d-ae2c-520a49902eeb",
   "metadata": {},
   "outputs": [
    {
     "data": {
      "text/plain": [
       "'film'"
      ]
     },
     "execution_count": 43,
     "metadata": {},
     "output_type": "execute_result"
    }
   ],
   "source": [
    "revise_index.get(19) # this can get the corresponding word of the index"
   ]
  },
  {
   "cell_type": "code",
   "execution_count": 61,
   "id": "45db323a-b75a-4db0-b47d-f32574143870",
   "metadata": {},
   "outputs": [],
   "source": [
    "decoded_review = ' '.join([revise_index.get(i-3,'') for i in train_data[0]]).strip()"
   ]
  },
  {
   "cell_type": "code",
   "execution_count": 62,
   "id": "0125e2c2-a8fc-40d1-928e-3dc4d2ff1511",
   "metadata": {},
   "outputs": [
    {
     "data": {
      "text/plain": [
       "\"this film was just brilliant casting location scenery story direction everyone's really suited the part they played and you could just imagine being there robert  is an amazing actor and now the same being director  father came from the same scottish island as myself so i loved the fact there was a real connection with this film the witty remarks throughout the film were great it was just brilliant so much that i bought the film as soon as it was released for  and would recommend it to everyone to watch and the fly fishing was amazing really cried at the end it was so sad and you know what they say if you cry at a film it must have been good and this definitely was also  to the two little boy's that played the  of norman and paul they were just brilliant children are often left out of the  list i think because the stars that play them all grown up are such a big profile for the whole film but these children are amazing and should be praised for what they have done don't you think the whole story was so lovely because it was true and was someone's life after all that was shared with us all\""
      ]
     },
     "execution_count": 62,
     "metadata": {},
     "output_type": "execute_result"
    }
   ],
   "source": [
    "decoded_review"
   ]
  },
  {
   "cell_type": "code",
   "execution_count": 64,
   "id": "4dcdf439-2ef5-4bae-975f-825d4f43f706",
   "metadata": {},
   "outputs": [],
   "source": [
    "from nltk.corpus import stopwords"
   ]
  },
  {
   "cell_type": "code",
   "execution_count": 77,
   "id": "89b97326-2868-425e-8868-5f6deb9344b4",
   "metadata": {},
   "outputs": [],
   "source": [
    "clean_msg = [i for i in decoded_review.split() if i.lower() not in stopwords.words('english')] # this is eliminate the stopwords"
   ]
  },
  {
   "cell_type": "code",
   "execution_count": null,
   "id": "8f798a30-85b7-4ed6-8846-6fa495348e3e",
   "metadata": {},
   "outputs": [
    {
     "name": "stdout",
     "output_type": "stream",
     "text": [
      "['film', 'brilliant', 'casting', 'location', 'scenery', 'story', 'direction', \"everyone's\", 'really', 'suited', 'part', 'played', 'could', 'imagine', 'robert', 'amazing', 'actor', 'director', 'father', 'came', 'scottish', 'island', 'loved', 'fact', 'real', 'connection', 'film', 'witty', 'remarks', 'throughout', 'film', 'great', 'brilliant', 'much', 'bought', 'film', 'soon', 'released', 'would', 'recommend', 'everyone', 'watch', 'fly', 'fishing', 'amazing', 'really', 'cried', 'end', 'sad', 'know', 'say', 'cry', 'film', 'must', 'good', 'definitely', 'also', 'two', 'little', \"boy's\", 'played', 'norman', 'paul', 'brilliant', 'children', 'often', 'left', 'list', 'think', 'stars', 'play', 'grown', 'big', 'profile', 'whole', 'film', 'children', 'amazing', 'praised', 'done', 'think', 'whole', 'story', 'lovely', 'true', \"someone's\", 'life', 'shared', 'us']\n"
     ]
    }
   ],
   "source": [
    "print(clean_msg)"
   ]
  },
  {
   "cell_type": "markdown",
   "id": "89d8935a-9643-4eae-aa48-82649954d2b9",
   "metadata": {},
   "source": [
    "### Prepare the data (one_hot_encoding)"
   ]
  },
  {
   "cell_type": "code",
   "execution_count": 78,
   "id": "751d17ba-1be9-4b96-8753-c1ff526a0e01",
   "metadata": {},
   "outputs": [],
   "source": [
    "import numpy as np"
   ]
  },
  {
   "cell_type": "code",
   "execution_count": 81,
   "id": "963d90ab-000f-4ecc-8c76-54ec9cd93780",
   "metadata": {},
   "outputs": [],
   "source": [
    "def vectorize_sequence(sequence, dimension=10000):\n",
    "    result = np.zeros((len(sequence), dimension))\n",
    "    for i, sequence in enumerate(sequence):\n",
    "        result[i, sequence] = 1\n",
    "    return result"
   ]
  },
  {
   "cell_type": "code",
   "execution_count": 83,
   "id": "5dfb47e3-20f8-47f2-88dd-4e03b6c89105",
   "metadata": {},
   "outputs": [],
   "source": [
    "Xtrain = vectorize_sequence(train_data)\n",
    "Xtest = vectorize_sequence(test_data)"
   ]
  },
  {
   "cell_type": "code",
   "execution_count": 86,
   "id": "eb646237-4191-4baf-a548-5f5cc3ea72d8",
   "metadata": {},
   "outputs": [],
   "source": [
    "ytrain = np.asarray(train_labels).astype('float32')\n",
    "ytest = np.asarray(train_labels).astype('float32')"
   ]
  },
  {
   "cell_type": "markdown",
   "id": "20115609-6da2-4d18-97da-19898caf3af3",
   "metadata": {},
   "source": [
    "### build the neural network model"
   ]
  },
  {
   "cell_type": "code",
   "execution_count": 88,
   "id": "6dacf946-65d8-48f0-a522-385f7ce4500e",
   "metadata": {},
   "outputs": [],
   "source": [
    "from tensorflow.keras import layers\n",
    "from tensorflow.keras import models"
   ]
  },
  {
   "cell_type": "code",
   "execution_count": 158,
   "id": "300a6d90-7992-436f-927b-203d801ce43e",
   "metadata": {},
   "outputs": [],
   "source": [
    "model = models.Sequential()\n",
    "model.add(layers.Dense(16, activation='relu', input_shape=(10000,)))\n",
    "model.add(layers.Dense(16, activation='relu'))\n",
    "model.add(layers.Dense(1, activation='sigmoid'))"
   ]
  },
  {
   "cell_type": "code",
   "execution_count": 159,
   "id": "a06698c4-9bd0-4539-8ba7-63a4ca4b70d0",
   "metadata": {},
   "outputs": [],
   "source": [
    "model.compile(optimizer='adam', loss='binary_crossentropy', metrics=['accuracy'])"
   ]
  },
  {
   "cell_type": "code",
   "execution_count": 160,
   "id": "34005cb2-b108-4e3e-97dc-3eef6a2b3c2e",
   "metadata": {},
   "outputs": [],
   "source": [
    "# sparate the data into train and validation set"
   ]
  },
  {
   "cell_type": "code",
   "execution_count": 161,
   "id": "a908477a-e351-43a0-8ed2-5aa3b587cdc5",
   "metadata": {},
   "outputs": [],
   "source": [
    "X_val = Xtrain[:10000]\n",
    "y_val = ytrain[:10000]"
   ]
  },
  {
   "cell_type": "code",
   "execution_count": 162,
   "id": "28d458b3-a110-477f-860f-65adbacf1bbd",
   "metadata": {},
   "outputs": [],
   "source": [
    "partial_x_train = Xtrain[10000:]\n",
    "partial_y_train = ytrain[10000:]"
   ]
  },
  {
   "cell_type": "code",
   "execution_count": 163,
   "id": "7df43d24-32a1-48bb-af6d-1223767aa01a",
   "metadata": {},
   "outputs": [
    {
     "name": "stdout",
     "output_type": "stream",
     "text": [
      "Train on 15000 samples, validate on 10000 samples\n",
      "Epoch 1/20\n",
      "15000/15000 [==============================] - 2s 129us/step - loss: 0.5739 - acc: 0.7217 - val_loss: 0.4271 - val_acc: 0.8529\n",
      "Epoch 2/20\n",
      "15000/15000 [==============================] - 1s 78us/step - loss: 0.3215 - acc: 0.8974 - val_loss: 0.3061 - val_acc: 0.8856\n",
      "Epoch 3/20\n",
      "15000/15000 [==============================] - 1s 76us/step - loss: 0.2169 - acc: 0.9307 - val_loss: 0.2805 - val_acc: 0.8887\n",
      "Epoch 4/20\n",
      "15000/15000 [==============================] - 1s 76us/step - loss: 0.1633 - acc: 0.9489 - val_loss: 0.2869 - val_acc: 0.8838\n",
      "Epoch 5/20\n",
      "15000/15000 [==============================] - 1s 76us/step - loss: 0.1268 - acc: 0.9646 - val_loss: 0.2914 - val_acc: 0.8852\n",
      "Epoch 6/20\n",
      "15000/15000 [==============================] - 1s 74us/step - loss: 0.0999 - acc: 0.9739 - val_loss: 0.3063 - val_acc: 0.8831\n",
      "Epoch 7/20\n",
      "15000/15000 [==============================] - 1s 74us/step - loss: 0.0779 - acc: 0.9825 - val_loss: 0.3269 - val_acc: 0.8813\n",
      "Epoch 8/20\n",
      "15000/15000 [==============================] - 1s 76us/step - loss: 0.0597 - acc: 0.9881 - val_loss: 0.3540 - val_acc: 0.8785\n",
      "Epoch 9/20\n",
      "15000/15000 [==============================] - 1s 75us/step - loss: 0.0457 - acc: 0.9925 - val_loss: 0.3777 - val_acc: 0.8782\n",
      "Epoch 10/20\n",
      "15000/15000 [==============================] - 1s 80us/step - loss: 0.0351 - acc: 0.9953 - val_loss: 0.4018 - val_acc: 0.8783\n",
      "Epoch 11/20\n",
      "15000/15000 [==============================] - 1s 76us/step - loss: 0.0260 - acc: 0.9978 - val_loss: 0.4284 - val_acc: 0.8760\n",
      "Epoch 12/20\n",
      "15000/15000 [==============================] - 1s 74us/step - loss: 0.0199 - acc: 0.9989 - val_loss: 0.4536 - val_acc: 0.8749\n",
      "Epoch 13/20\n",
      "15000/15000 [==============================] - 1s 69us/step - loss: 0.0153 - acc: 0.9995 - val_loss: 0.4780 - val_acc: 0.8737\n",
      "Epoch 14/20\n",
      "15000/15000 [==============================] - 1s 76us/step - loss: 0.0120 - acc: 0.9998 - val_loss: 0.5004 - val_acc: 0.8735\n",
      "Epoch 15/20\n",
      "15000/15000 [==============================] - 1s 78us/step - loss: 0.0097 - acc: 0.9998 - val_loss: 0.5210 - val_acc: 0.8718\n",
      "Epoch 16/20\n",
      "15000/15000 [==============================] - 1s 76us/step - loss: 0.0079 - acc: 0.9999 - val_loss: 0.5408 - val_acc: 0.8703\n",
      "Epoch 17/20\n",
      "15000/15000 [==============================] - 1s 74us/step - loss: 0.0066 - acc: 0.9999 - val_loss: 0.5584 - val_acc: 0.8698\n",
      "Epoch 18/20\n",
      "15000/15000 [==============================] - 1s 77us/step - loss: 0.0056 - acc: 0.9999 - val_loss: 0.5754 - val_acc: 0.8705\n",
      "Epoch 19/20\n",
      "15000/15000 [==============================] - 1s 75us/step - loss: 0.0048 - acc: 0.9999 - val_loss: 0.5879 - val_acc: 0.8715\n",
      "Epoch 20/20\n",
      "15000/15000 [==============================] - 1s 74us/step - loss: 0.0041 - acc: 0.9999 - val_loss: 0.6006 - val_acc: 0.8695\n"
     ]
    },
    {
     "data": {
      "text/plain": [
       "<tensorflow.python.keras.callbacks.History at 0x7f848f0082e0>"
      ]
     },
     "execution_count": 163,
     "metadata": {},
     "output_type": "execute_result"
    }
   ],
   "source": [
    "model.fit(partial_x_train, partial_y_train, epochs=20, batch_size=512, validation_data=[X_val, y_val])"
   ]
  },
  {
   "cell_type": "code",
   "execution_count": 114,
   "id": "b2783a00-8022-4454-81da-6c137b84047d",
   "metadata": {},
   "outputs": [],
   "source": [
    "import matplotlib.pyplot as plt"
   ]
  },
  {
   "cell_type": "code",
   "execution_count": 151,
   "id": "b93bd999-4940-40e6-a735-771fdc210515",
   "metadata": {},
   "outputs": [],
   "source": [
    "def plot_validation_loss(model):\n",
    "    val_loss=model.history.history['val_loss']\n",
    "    epochs = range(1, 20+1)\n",
    "    plt.plot(epochs, val_loss, 'ob',label='validation loss', alpha=0.5, mec='black')\n",
    "    plt.xlabel('Epochs')\n",
    "    plt.ylabel('Validation loss')"
   ]
  },
  {
   "cell_type": "code",
   "execution_count": 152,
   "id": "8fa8acaf-e93a-42bd-9992-5682a4e8047e",
   "metadata": {},
   "outputs": [
    {
     "data": {
      "image/png": "[encoded data removed]",
      "text/plain": [
       "<Figure size 432x288 with 1 Axes>"
      ]
     },
     "metadata": {
      "needs_background": "light"
     },
     "output_type": "display_data"
    }
   ],
   "source": [
    "plot_validation_loss(model)"
   ]
  },
  {
   "cell_type": "markdown",
   "id": "41a81979-1963-4090-a0bd-b067599a2b16",
   "metadata": {},
   "source": [
    "### Version of the model with lower capacity"
   ]
  },
  {
   "cell_type": "code",
   "execution_count": 217,
   "id": "c6cffe2d-8f91-470a-a374-9c56e750ac5d",
   "metadata": {},
   "outputs": [],
   "source": [
    "model_low = models.Sequential()\n",
    "model_low.add(layers.Dense(4, activation='relu', input_shape=(10000,)))\n",
    "model_low.add(layers.Dense(4, activation='relu'))\n",
    "model_low.add(layers.Dense(1, activation='sigmoid'))\n",
    "\n",
    "model_low.compile(optimizer='adam', loss='binary_crossentropy', metrics=['accuracy'])"
   ]
  },
  {
   "cell_type": "code",
   "execution_count": 218,
   "id": "23038ded-60f6-4976-a228-794825a6f564",
   "metadata": {},
   "outputs": [
    {
     "name": "stdout",
     "output_type": "stream",
     "text": [
      "Train on 15000 samples, validate on 10000 samples\n",
      "Epoch 1/20\n",
      "15000/15000 [==============================] - 2s 145us/step - loss: 0.6371 - acc: 0.6442 - val_loss: 0.5828 - val_acc: 0.7215\n",
      "Epoch 2/20\n",
      "15000/15000 [==============================] - 3s 167us/step - loss: 0.5264 - acc: 0.8092 - val_loss: 0.5046 - val_acc: 0.8219\n",
      "Epoch 3/20\n",
      "15000/15000 [==============================] - 1s 99us/step - loss: 0.4392 - acc: 0.8803 - val_loss: 0.4333 - val_acc: 0.8580\n",
      "Epoch 4/20\n",
      "15000/15000 [==============================] - 1s 69us/step - loss: 0.3594 - acc: 0.9131 - val_loss: 0.3739 - val_acc: 0.8769\n",
      "Epoch 5/20\n",
      "15000/15000 [==============================] - 1s 71us/step - loss: 0.2967 - acc: 0.9283 - val_loss: 0.3337 - val_acc: 0.8870\n",
      "Epoch 6/20\n",
      "15000/15000 [==============================] - 1s 70us/step - loss: 0.2518 - acc: 0.9355 - val_loss: 0.3093 - val_acc: 0.8873\n",
      "Epoch 7/20\n",
      "15000/15000 [==============================] - 1s 73us/step - loss: 0.2174 - acc: 0.9442 - val_loss: 0.2946 - val_acc: 0.8884\n",
      "Epoch 8/20\n",
      "15000/15000 [==============================] - 1s 68us/step - loss: 0.1912 - acc: 0.9501 - val_loss: 0.2857 - val_acc: 0.8883\n",
      "Epoch 9/20\n",
      "15000/15000 [==============================] - 1s 73us/step - loss: 0.1700 - acc: 0.9567 - val_loss: 0.2831 - val_acc: 0.8880\n",
      "Epoch 10/20\n",
      "15000/15000 [==============================] - 1s 76us/step - loss: 0.1525 - acc: 0.9617 - val_loss: 0.2796 - val_acc: 0.8878\n",
      "Epoch 11/20\n",
      "15000/15000 [==============================] - 1s 75us/step - loss: 0.1374 - acc: 0.9670 - val_loss: 0.2806 - val_acc: 0.8862\n",
      "Epoch 12/20\n",
      "15000/15000 [==============================] - 1s 73us/step - loss: 0.1245 - acc: 0.9705 - val_loss: 0.2836 - val_acc: 0.8857\n",
      "Epoch 13/20\n",
      "15000/15000 [==============================] - 1s 77us/step - loss: 0.1131 - acc: 0.9742 - val_loss: 0.2875 - val_acc: 0.8853\n",
      "Epoch 14/20\n",
      "15000/15000 [==============================] - 1s 76us/step - loss: 0.1030 - acc: 0.9780 - val_loss: 0.2929 - val_acc: 0.8840\n",
      "Epoch 15/20\n",
      "15000/15000 [==============================] - 1s 73us/step - loss: 0.0940 - acc: 0.9814 - val_loss: 0.2983 - val_acc: 0.8844\n",
      "Epoch 16/20\n",
      "15000/15000 [==============================] - 1s 71us/step - loss: 0.0861 - acc: 0.9843 - val_loss: 0.3049 - val_acc: 0.8833\n",
      "Epoch 17/20\n",
      "15000/15000 [==============================] - 1s 78us/step - loss: 0.0788 - acc: 0.9867 - val_loss: 0.3146 - val_acc: 0.8796\n",
      "Epoch 18/20\n",
      "15000/15000 [==============================] - 1s 70us/step - loss: 0.0727 - acc: 0.9881 - val_loss: 0.3210 - val_acc: 0.8804\n",
      "Epoch 19/20\n",
      "15000/15000 [==============================] - 1s 74us/step - loss: 0.0665 - acc: 0.9897 - val_loss: 0.3281 - val_acc: 0.8803\n",
      "Epoch 20/20\n",
      "15000/15000 [==============================] - 1s 71us/step - loss: 0.0612 - acc: 0.9910 - val_loss: 0.3375 - val_acc: 0.8792\n"
     ]
    },
    {
     "data": {
      "text/plain": [
       "<tensorflow.python.keras.callbacks.History at 0x7f8396c6e3a0>"
      ]
     },
     "execution_count": 218,
     "metadata": {},
     "output_type": "execute_result"
    }
   ],
   "source": [
    "model_low.fit(partial_x_train, partial_y_train, epochs=20, batch_size=512, validation_data=[X_val, y_val])"
   ]
  },
  {
   "cell_type": "code",
   "execution_count": 219,
   "id": "d6611954-6128-4797-8e20-87ecb97b20fd",
   "metadata": {},
   "outputs": [],
   "source": [
    "def comparing_validation_loss(model1, model2):\n",
    "    val_loss1=model1.history.history['val_loss']\n",
    "    val_loss2=model2.history.history['val_loss']\n",
    "    epochs = range(1, 20+1)\n",
    "    plt.plot(epochs, val_loss1, 'ob',label='original validation loss', alpha=0.5, mec='black')\n",
    "    plt.plot(epochs, val_loss2, '^r',label='validation loss with changed capacity', alpha=0.5, mec='black')\n",
    "    plt.xlabel('Epochs')\n",
    "    plt.ylabel('Validation loss')\n",
    "    plt.legend(loc='lower right')"
   ]
  },
  {
   "cell_type": "code",
   "execution_count": 221,
   "id": "739ff8f6-5f91-441d-ad1c-1fc7bd1cae02",
   "metadata": {},
   "outputs": [
    {
     "data": {
      "text/plain": [
       "<matplotlib.legend.Legend at 0x7f839991edc0>"
      ]
     },
     "execution_count": 221,
     "metadata": {},
     "output_type": "execute_result"
    },
    {
     "data": {
      "image/png": "[encoded data removed]",
      "text/plain": [
       "<Figure size 432x288 with 1 Axes>"
      ]
     },
     "metadata": {
      "needs_background": "light"
     },
     "output_type": "display_data"
    }
   ],
   "source": [
    "comparing_validation_loss(model, model_low)\n",
    "plt.legend(loc='upper left')\n",
    "# As you can see, the smaller network starts overfitting later than the original network, and its performance degrades more slowly once it starts overfitting."
   ]
  },
  {
   "cell_type": "markdown",
   "id": "0cf2d9c9-02dd-4807-b10c-cf52df3e8258",
   "metadata": {},
   "source": [
    "### Version of the model with higher capacity"
   ]
  },
  {
   "cell_type": "code",
   "execution_count": 223,
   "id": "f274898c-b47a-4fea-8ddd-208d82a2c6b1",
   "metadata": {},
   "outputs": [],
   "source": [
    "model_high = models.Sequential()\n",
    "model_high.add(layers.Dense(512, activation='relu', input_shape=(10000,)))\n",
    "model_high.add(layers.Dense(512, activation='relu'))\n",
    "model_high.add(layers.Dense(1, activation='sigmoid'))\n",
    "\n",
    "model_high.compile(optimizer='adam', loss='binary_crossentropy', metrics=['accuracy'])"
   ]
  },
  {
   "cell_type": "code",
   "execution_count": 224,
   "id": "17867f24-6c20-41a2-aaa1-afc157e52362",
   "metadata": {},
   "outputs": [
    {
     "name": "stdout",
     "output_type": "stream",
     "text": [
      "Train on 15000 samples, validate on 10000 samples\n",
      "Epoch 1/20\n",
      "15000/15000 [==============================] - 6s 415us/step - loss: 0.3922 - acc: 0.8289 - val_loss: 0.2899 - val_acc: 0.8811\n",
      "Epoch 2/20\n",
      "15000/15000 [==============================] - 4s 263us/step - loss: 0.1294 - acc: 0.9559 - val_loss: 0.3333 - val_acc: 0.8830\n",
      "Epoch 3/20\n",
      "15000/15000 [==============================] - 4s 270us/step - loss: 0.0416 - acc: 0.9887 - val_loss: 0.4395 - val_acc: 0.8761\n",
      "Epoch 4/20\n",
      "15000/15000 [==============================] - 4s 295us/step - loss: 0.0075 - acc: 0.9991 - val_loss: 0.5618 - val_acc: 0.8762\n",
      "Epoch 5/20\n",
      "15000/15000 [==============================] - 4s 271us/step - loss: 0.0015 - acc: 0.9999 - val_loss: 0.6149 - val_acc: 0.8778\n",
      "Epoch 6/20\n",
      "15000/15000 [==============================] - 4s 275us/step - loss: 4.5361e-04 - acc: 1.0000 - val_loss: 0.6554 - val_acc: 0.8790\n",
      "Epoch 7/20\n",
      "15000/15000 [==============================] - 4s 282us/step - loss: 2.6016e-04 - acc: 1.0000 - val_loss: 0.6793 - val_acc: 0.8790\n",
      "Epoch 8/20\n",
      "15000/15000 [==============================] - 4s 282us/step - loss: 1.7845e-04 - acc: 1.0000 - val_loss: 0.6984 - val_acc: 0.8789\n",
      "Epoch 9/20\n",
      "15000/15000 [==============================] - 4s 282us/step - loss: 1.3348e-04 - acc: 1.0000 - val_loss: 0.7151 - val_acc: 0.8787\n",
      "Epoch 10/20\n",
      "15000/15000 [==============================] - 4s 297us/step - loss: 1.0218e-04 - acc: 1.0000 - val_loss: 0.7307 - val_acc: 0.8786\n",
      "Epoch 11/20\n",
      "15000/15000 [==============================] - 5s 305us/step - loss: 7.9638e-05 - acc: 1.0000 - val_loss: 0.7459 - val_acc: 0.8789\n",
      "Epoch 12/20\n",
      "15000/15000 [==============================] - 4s 286us/step - loss: 6.3033e-05 - acc: 1.0000 - val_loss: 0.7610 - val_acc: 0.8791\n",
      "Epoch 13/20\n",
      "15000/15000 [==============================] - 4s 276us/step - loss: 5.0125e-05 - acc: 1.0000 - val_loss: 0.7757 - val_acc: 0.8790\n",
      "Epoch 14/20\n",
      "15000/15000 [==============================] - 4s 278us/step - loss: 4.0712e-05 - acc: 1.0000 - val_loss: 0.7881 - val_acc: 0.8790\n",
      "Epoch 15/20\n",
      "15000/15000 [==============================] - 4s 283us/step - loss: 3.3439e-05 - acc: 1.0000 - val_loss: 0.8015 - val_acc: 0.8783\n",
      "Epoch 16/20\n",
      "15000/15000 [==============================] - 4s 293us/step - loss: 2.7842e-05 - acc: 1.0000 - val_loss: 0.8126 - val_acc: 0.8788\n",
      "Epoch 17/20\n",
      "15000/15000 [==============================] - 4s 281us/step - loss: 2.3587e-05 - acc: 1.0000 - val_loss: 0.8235 - val_acc: 0.8781\n",
      "Epoch 18/20\n",
      "15000/15000 [==============================] - 4s 297us/step - loss: 2.0120e-05 - acc: 1.0000 - val_loss: 0.8331 - val_acc: 0.8788\n",
      "Epoch 19/20\n",
      "15000/15000 [==============================] - 5s 300us/step - loss: 1.7387e-05 - acc: 1.0000 - val_loss: 0.8426 - val_acc: 0.8784\n",
      "Epoch 20/20\n",
      "15000/15000 [==============================] - 4s 278us/step - loss: 1.5171e-05 - acc: 1.0000 - val_loss: 0.8515 - val_acc: 0.8784\n"
     ]
    },
    {
     "data": {
      "text/plain": [
       "<tensorflow.python.keras.callbacks.History at 0x7f8399137fa0>"
      ]
     },
     "execution_count": 224,
     "metadata": {},
     "output_type": "execute_result"
    }
   ],
   "source": [
    "model_high.fit(partial_x_train, partial_y_train, epochs=20, batch_size=512, validation_data=[X_val, y_val])"
   ]
  },
  {
   "cell_type": "code",
   "execution_count": 226,
   "id": "0b00e23d-38ea-4801-aaa3-a2019aa5925e",
   "metadata": {},
   "outputs": [
    {
     "data": {
      "image/png": "[encoded data removed]",
      "text/plain": [
       "<Figure size 432x288 with 1 Axes>"
      ]
     },
     "metadata": {
      "needs_background": "light"
     },
     "output_type": "display_data"
    }
   ],
   "source": [
    "comparing_validation_loss(model, model_high) \n",
    "# The bigger network starts overfitting almost immediately, after just one epoch, and it overfits much more severely."
   ]
  },
  {
   "cell_type": "markdown",
   "id": "af167a52-b0ab-43d3-93a2-0e4b787f6e24",
   "metadata": {},
   "source": [
    "### Adding weight regularization"
   ]
  },
  {
   "cell_type": "code",
   "execution_count": 229,
   "id": "ff0d237b-9216-4fac-bd48-4419a5f22ec5",
   "metadata": {},
   "outputs": [],
   "source": [
    "from tensorflow.keras import regularizers"
   ]
  },
  {
   "cell_type": "code",
   "execution_count": 232,
   "id": "4d1af18c-9566-4309-98f7-3f1228ea1972",
   "metadata": {},
   "outputs": [],
   "source": [
    "## regularizer.l1(0.001)\n",
    "## regularizer.l2(0.001)\n",
    "## regularizer.l1_l2(0.001)"
   ]
  },
  {
   "cell_type": "code",
   "execution_count": 233,
   "id": "a9b23229-dcb3-426e-8eef-2dfedd9838cd",
   "metadata": {},
   "outputs": [],
   "source": [
    "model_reg = models.Sequential()\n",
    "model_reg.add(layers.Dense(16, kernel_regularizer= regularizers.l2(0.001), activation='relu', input_shape=(10000,)))\n",
    "model_reg.add(layers.Dense(16, kernel_regularizer= regularizers.l2(0.001), activation='relu'))\n",
    "model_reg.add(layers.Dense(1, activation='sigmoid'))\n",
    "\n",
    "model_reg.compile(optimizer='adam', loss='binary_crossentropy', metrics=['accuracy'])"
   ]
  },
  {
   "cell_type": "code",
   "execution_count": 234,
   "id": "eef5a8ed-40db-4a15-bea7-ed81b47116f4",
   "metadata": {},
   "outputs": [
    {
     "name": "stdout",
     "output_type": "stream",
     "text": [
      "Train on 15000 samples, validate on 10000 samples\n",
      "Epoch 1/20\n",
      "15000/15000 [==============================] - 5s 356us/step - loss: 0.6043 - acc: 0.7599 - val_loss: 0.4453 - val_acc: 0.8599\n",
      "Epoch 2/20\n",
      "15000/15000 [==============================] - 1s 77us/step - loss: 0.3483 - acc: 0.9023 - val_loss: 0.3462 - val_acc: 0.8862\n",
      "Epoch 3/20\n",
      "15000/15000 [==============================] - 1s 71us/step - loss: 0.2623 - acc: 0.9305 - val_loss: 0.3357 - val_acc: 0.8861\n",
      "Epoch 4/20\n",
      "15000/15000 [==============================] - 1s 67us/step - loss: 0.2228 - acc: 0.9466 - val_loss: 0.3402 - val_acc: 0.8848\n",
      "Epoch 5/20\n",
      "15000/15000 [==============================] - 1s 66us/step - loss: 0.1982 - acc: 0.9588 - val_loss: 0.3483 - val_acc: 0.8839\n",
      "Epoch 6/20\n",
      "15000/15000 [==============================] - 1s 65us/step - loss: 0.1801 - acc: 0.9674 - val_loss: 0.3675 - val_acc: 0.8812\n",
      "Epoch 7/20\n",
      "15000/15000 [==============================] - 1s 66us/step - loss: 0.1684 - acc: 0.9721 - val_loss: 0.3766 - val_acc: 0.8784\n",
      "Epoch 8/20\n",
      "15000/15000 [==============================] - 1s 68us/step - loss: 0.1567 - acc: 0.9773 - val_loss: 0.4000 - val_acc: 0.8763\n",
      "Epoch 9/20\n",
      "15000/15000 [==============================] - 1s 67us/step - loss: 0.1473 - acc: 0.9820 - val_loss: 0.4076 - val_acc: 0.8754\n",
      "Epoch 10/20\n",
      "15000/15000 [==============================] - 1s 70us/step - loss: 0.1397 - acc: 0.9854 - val_loss: 0.4224 - val_acc: 0.8746\n",
      "Epoch 11/20\n",
      "15000/15000 [==============================] - 1s 73us/step - loss: 0.1330 - acc: 0.9879 - val_loss: 0.4372 - val_acc: 0.8739\n",
      "Epoch 12/20\n",
      "15000/15000 [==============================] - 1s 74us/step - loss: 0.1297 - acc: 0.9873 - val_loss: 0.4584 - val_acc: 0.8685\n",
      "Epoch 13/20\n",
      "15000/15000 [==============================] - 1s 98us/step - loss: 0.1271 - acc: 0.9880 - val_loss: 0.4612 - val_acc: 0.8724\n",
      "Epoch 14/20\n",
      "15000/15000 [==============================] - 1s 85us/step - loss: 0.1218 - acc: 0.9907 - val_loss: 0.4767 - val_acc: 0.8699\n",
      "Epoch 15/20\n",
      "15000/15000 [==============================] - 1s 74us/step - loss: 0.1171 - acc: 0.9921 - val_loss: 0.4898 - val_acc: 0.8666\n",
      "Epoch 16/20\n",
      "15000/15000 [==============================] - 1s 72us/step - loss: 0.1138 - acc: 0.9945 - val_loss: 0.5005 - val_acc: 0.8665\n",
      "Epoch 17/20\n",
      "15000/15000 [==============================] - 1s 70us/step - loss: 0.1105 - acc: 0.9938 - val_loss: 0.5094 - val_acc: 0.8673\n",
      "Epoch 18/20\n",
      "15000/15000 [==============================] - 1s 68us/step - loss: 0.1100 - acc: 0.9943 - val_loss: 0.5207 - val_acc: 0.8666\n",
      "Epoch 19/20\n",
      "15000/15000 [==============================] - 1s 76us/step - loss: 0.1064 - acc: 0.9941 - val_loss: 0.5286 - val_acc: 0.8632\n",
      "Epoch 20/20\n",
      "15000/15000 [==============================] - 1s 66us/step - loss: 0.1028 - acc: 0.9963 - val_loss: 0.5402 - val_acc: 0.8626\n"
     ]
    },
    {
     "data": {
      "text/plain": [
       "<tensorflow.python.keras.callbacks.History at 0x7f837ef60be0>"
      ]
     },
     "execution_count": 234,
     "metadata": {},
     "output_type": "execute_result"
    }
   ],
   "source": [
    "model_reg.fit(partial_x_train, partial_y_train, epochs=20, batch_size=512, validation_data=[X_val, y_val])"
   ]
  },
  {
   "cell_type": "code",
   "execution_count": 235,
   "id": "ae880da2-6392-4808-80b2-d424b7efe5d5",
   "metadata": {},
   "outputs": [
    {
     "data": {
      "image/png": "[encoded data removed]",
      "text/plain": [
       "<Figure size 432x288 with 1 Axes>"
      ]
     },
     "metadata": {
      "needs_background": "light"
     },
     "output_type": "display_data"
    }
   ],
   "source": [
    "comparing_validation_loss(model, model_reg)\n",
    "#l2(0.001) means every coefficient in the weight matrix of the layer will add 0.001 * weight_coefficient_value to the total loss of the network"
   ]
  },
  {
   "cell_type": "markdown",
   "id": "9c2b3dc9-eaff-4235-89b8-c96dfe0324aa",
   "metadata": {},
   "source": [
    "### Adding dropout to the IMDB network"
   ]
  },
  {
   "cell_type": "code",
   "execution_count": 237,
   "id": "2723ae74-ee06-44c7-b130-a87e5e2536a3",
   "metadata": {},
   "outputs": [],
   "source": [
    "model_dropout = models.Sequential()\n",
    "model_dropout.add(layers.Dense(16, activation='relu', input_shape=(10000,)))\n",
    "model_dropout.add(layers.Dropout(0.5))\n",
    "model_dropout.add(layers.Dense(16, activation='relu'))\n",
    "model_dropout.add(layers.Dropout(0.5))\n",
    "model_dropout.add(layers.Dense(1, activation='sigmoid'))\n",
    "\n",
    "model_dropout.compile(optimizer='adam', loss='binary_crossentropy', metrics=['accuracy'])"
   ]
  },
  {
   "cell_type": "code",
   "execution_count": 239,
   "id": "1b1b0ccb-983a-44b0-a305-7441f860f43c",
   "metadata": {},
   "outputs": [
    {
     "name": "stdout",
     "output_type": "stream",
     "text": [
      "Train on 15000 samples, validate on 10000 samples\n",
      "Epoch 1/20\n",
      "15000/15000 [==============================] - 4s 287us/step - loss: 0.6740 - acc: 0.5721 - val_loss: 0.6197 - val_acc: 0.7938\n",
      "Epoch 2/20\n",
      "15000/15000 [==============================] - 1s 91us/step - loss: 0.5797 - acc: 0.7089 - val_loss: 0.4808 - val_acc: 0.8587\n",
      "Epoch 3/20\n",
      "15000/15000 [==============================] - 1s 72us/step - loss: 0.4615 - acc: 0.8009 - val_loss: 0.3693 - val_acc: 0.8726\n",
      "Epoch 4/20\n",
      "15000/15000 [==============================] - 1s 76us/step - loss: 0.3678 - acc: 0.8519 - val_loss: 0.3015 - val_acc: 0.8851\n",
      "Epoch 5/20\n",
      "15000/15000 [==============================] - 1s 75us/step - loss: 0.3143 - acc: 0.8790 - val_loss: 0.2786 - val_acc: 0.8897\n",
      "Epoch 6/20\n",
      "15000/15000 [==============================] - 1s 74us/step - loss: 0.2713 - acc: 0.9005 - val_loss: 0.2713 - val_acc: 0.8885\n",
      "Epoch 7/20\n",
      "15000/15000 [==============================] - 2s 147us/step - loss: 0.2358 - acc: 0.9187 - val_loss: 0.2712 - val_acc: 0.8881\n",
      "Epoch 8/20\n",
      "15000/15000 [==============================] - 1s 75us/step - loss: 0.2008 - acc: 0.9307 - val_loss: 0.2765 - val_acc: 0.8890\n",
      "Epoch 9/20\n",
      "15000/15000 [==============================] - 1s 75us/step - loss: 0.1809 - acc: 0.9401 - val_loss: 0.2846 - val_acc: 0.8868\n",
      "Epoch 10/20\n",
      "15000/15000 [==============================] - 1s 77us/step - loss: 0.1600 - acc: 0.9521 - val_loss: 0.2957 - val_acc: 0.8871\n",
      "Epoch 11/20\n",
      "15000/15000 [==============================] - 1s 75us/step - loss: 0.1423 - acc: 0.9543 - val_loss: 0.3150 - val_acc: 0.8871\n",
      "Epoch 12/20\n",
      "15000/15000 [==============================] - 1s 76us/step - loss: 0.1306 - acc: 0.9583 - val_loss: 0.3238 - val_acc: 0.8853\n",
      "Epoch 13/20\n",
      "15000/15000 [==============================] - 1s 74us/step - loss: 0.1127 - acc: 0.9675 - val_loss: 0.3572 - val_acc: 0.8852\n",
      "Epoch 14/20\n",
      "15000/15000 [==============================] - 1s 73us/step - loss: 0.1032 - acc: 0.9679 - val_loss: 0.3607 - val_acc: 0.8862\n",
      "Epoch 15/20\n",
      "15000/15000 [==============================] - 1s 77us/step - loss: 0.0910 - acc: 0.9737 - val_loss: 0.3803 - val_acc: 0.8852\n",
      "Epoch 16/20\n",
      "15000/15000 [==============================] - 1s 75us/step - loss: 0.0858 - acc: 0.9737 - val_loss: 0.3956 - val_acc: 0.8841\n",
      "Epoch 17/20\n",
      "15000/15000 [==============================] - 1s 75us/step - loss: 0.0833 - acc: 0.9747 - val_loss: 0.4093 - val_acc: 0.8838\n",
      "Epoch 18/20\n",
      "15000/15000 [==============================] - 1s 73us/step - loss: 0.0765 - acc: 0.9756 - val_loss: 0.4352 - val_acc: 0.8840\n",
      "Epoch 19/20\n",
      "15000/15000 [==============================] - 1s 75us/step - loss: 0.0726 - acc: 0.9753 - val_loss: 0.4603 - val_acc: 0.8845\n",
      "Epoch 20/20\n",
      "15000/15000 [==============================] - 1s 75us/step - loss: 0.0680 - acc: 0.9780 - val_loss: 0.4900 - val_acc: 0.8837\n"
     ]
    },
    {
     "data": {
      "text/plain": [
       "<tensorflow.python.keras.callbacks.History at 0x7f83975735e0>"
      ]
     },
     "execution_count": 239,
     "metadata": {},
     "output_type": "execute_result"
    }
   ],
   "source": [
    "model_dropout.fit(partial_x_train, partial_y_train, epochs=20, batch_size=512, validation_data=[X_val, y_val])"
   ]
  },
  {
   "cell_type": "code",
   "execution_count": 242,
   "id": "9c0f1e41-1384-48b0-a218-efcfd797f6a9",
   "metadata": {},
   "outputs": [
    {
     "data": {
      "text/plain": [
       "<matplotlib.legend.Legend at 0x7f8381cd68b0>"
      ]
     },
     "execution_count": 242,
     "metadata": {},
     "output_type": "execute_result"
    },
    {
     "data": {
      "image/png": "[encoded data removed]",
      "text/plain": [
       "<Figure size 432x288 with 1 Axes>"
      ]
     },
     "metadata": {
      "needs_background": "light"
     },
     "output_type": "display_data"
    }
   ],
   "source": [
    "comparing_validation_loss(model, model_dropout)\n",
    "plt.legend(loc='upper left')\n",
    "# this is a clear improvement over the original network in terms of overfitting."
   ]
  },
  {
   "cell_type": "markdown",
   "id": "62f76eaf-72a4-4496-93ef-15b26de2e4bd",
   "metadata": {},
   "source": [
    "### early stoping"
   ]
  },
  {
   "cell_type": "code",
   "execution_count": 245,
   "id": "48017f51-c7ee-44b9-a633-c56f6aa59597",
   "metadata": {},
   "outputs": [],
   "source": [
    "from tensorflow.keras import callbacks"
   ]
  },
  {
   "cell_type": "code",
   "execution_count": 247,
   "id": "e81c72e6-9bf1-4a55-af03-d1b35620893b",
   "metadata": {},
   "outputs": [
    {
     "name": "stdout",
     "output_type": "stream",
     "text": [
      "WARNING:tensorflow:EarlyStopping mode <built-in function min> is unknown, fallback to auto mode.\n"
     ]
    }
   ],
   "source": [
    "earlystop = callbacks.EarlyStopping(monitor='val_loss', patience=5, mode=min)"
   ]
  },
  {
   "cell_type": "code",
   "execution_count": 250,
   "id": "231acfcd-4c28-4fae-92a7-c38c03f57f4d",
   "metadata": {},
   "outputs": [],
   "source": [
    "model_early = models.Sequential()\n",
    "model_early.add(layers.Dense(16, activation='relu', input_shape=(10000,)))\n",
    "model_early.add(layers.Dense(16, activation='relu'))\n",
    "model_early.add(layers.Dense(1, activation='sigmoid'))\n",
    "\n",
    "model_early.compile(optimizer='adam', loss='binary_crossentropy', metrics=['accuracy'])"
   ]
  },
  {
   "cell_type": "code",
   "execution_count": 251,
   "id": "c28ecab2-7e8d-47c4-a2c0-a44997bb3d73",
   "metadata": {},
   "outputs": [
    {
     "name": "stdout",
     "output_type": "stream",
     "text": [
      "Train on 15000 samples, validate on 10000 samples\n",
      "Epoch 1/20\n",
      "15000/15000 [==============================] - 6s 375us/step - loss: 0.5487 - acc: 0.7570 - val_loss: 0.3959 - val_acc: 0.8587\n",
      "Epoch 2/20\n",
      "15000/15000 [==============================] - 1s 81us/step - loss: 0.2977 - acc: 0.9034 - val_loss: 0.2961 - val_acc: 0.8871\n",
      "Epoch 3/20\n",
      "15000/15000 [==============================] - 1s 71us/step - loss: 0.2038 - acc: 0.9326 - val_loss: 0.2776 - val_acc: 0.8875\n",
      "Epoch 4/20\n",
      "15000/15000 [==============================] - 1s 76us/step - loss: 0.1525 - acc: 0.9515 - val_loss: 0.2795 - val_acc: 0.8869\n",
      "Epoch 5/20\n",
      "15000/15000 [==============================] - 1s 70us/step - loss: 0.1166 - acc: 0.9668 - val_loss: 0.2947 - val_acc: 0.8864\n",
      "Epoch 6/20\n",
      "15000/15000 [==============================] - 1s 69us/step - loss: 0.0910 - acc: 0.9762 - val_loss: 0.3160 - val_acc: 0.8816\n",
      "Epoch 7/20\n",
      "15000/15000 [==============================] - 1s 69us/step - loss: 0.0704 - acc: 0.9843 - val_loss: 0.3386 - val_acc: 0.8817\n",
      "Epoch 8/20\n",
      "15000/15000 [==============================] - 1s 68us/step - loss: 0.0546 - acc: 0.9892 - val_loss: 0.3657 - val_acc: 0.8791\n"
     ]
    },
    {
     "data": {
      "text/plain": [
       "<tensorflow.python.keras.callbacks.History at 0x7f8385e2fbb0>"
      ]
     },
     "execution_count": 251,
     "metadata": {},
     "output_type": "execute_result"
    }
   ],
   "source": [
    "model_early.fit(partial_x_train, partial_y_train, epochs=20, batch_size=512, validation_data=[X_val, y_val], callbacks=[earlystop])"
   ]
  },
  {
   "cell_type": "code",
   "execution_count": 256,
   "id": "dd250e63-bb5c-4f40-b549-951d7ae98fcf",
   "metadata": {},
   "outputs": [],
   "source": [
    "earl_stop = model_early.history.history['val_loss']"
   ]
  },
  {
   "cell_type": "code",
   "execution_count": 267,
   "id": "f5b7bc97-8623-4db7-b71e-c78472c410a8",
   "metadata": {},
   "outputs": [
    {
     "data": {
      "image/png": "[encoded data removed]",
      "text/plain": [
       "<Figure size 432x288 with 1 Axes>"
      ]
     },
     "metadata": {
      "needs_background": "light"
     },
     "output_type": "display_data"
    }
   ],
   "source": [
    "plot_validation_loss(model)\n",
    "plt.plot(range(8), earl_stop, '^r', alpha=0.5, mec='black', label='early stop')\n",
    "plt.legend(loc='best'); # the fitting process stops at epoch=8-5=3, becuz we set patience=5"
   ]
  },
  {
   "cell_type": "code",
   "execution_count": null,
   "id": "958357a4-2619-4918-8057-167ff945adff",
   "metadata": {},
   "outputs": [],
   "source": []
  }
 ],
 "metadata": {
  "kernelspec": {
   "display_name": "Python 3 (ipykernel)",
   "language": "python",
   "name": "python3"
  },
  "language_info": {
   "codemirror_mode": {
    "name": "ipython",
    "version": 3
   },
   "file_extension": ".py",
   "mimetype": "text/x-python",
   "name": "python",
   "nbconvert_exporter": "python",
   "pygments_lexer": "ipython3",
   "version": "3.9.7"
  }
 },
 "nbformat": 4,
 "nbformat_minor": 5
}
